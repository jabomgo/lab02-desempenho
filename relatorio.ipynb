{
 "cells": [
  {
   "cell_type": "code",
   "execution_count": null,
   "metadata": {},
   "outputs": [],
   "source": [
    "import os\n",
    "import subprocess\n",
    "import pandas as pd\n",
    "import seaborn as sns\n",
    "import matplotlib.pyplot as plt\n",
    "\n",
    "FIGSIZE = (10,5)\n",
    "# Lista de configurações para testar\n",
    "# Ordem: taxa_chegada, tempo_medio, num_servidores, tempo_observação\n",
    "CENARIOS_QUESTAO_2 = [[x, 0.88, 10, 10] for x in range(1, 15, 1)]\n",
    "\n",
    "def rodar_simulador(taxa_chegada, tempo_medio_servico, num_servidores, tempo_observacao):\n",
    "    comando = [\n",
    "        \"java\", \"-cp\", \"bin:lib/*\", \"ServidorWeb\",\n",
    "        str(taxa_chegada), \n",
    "        str(tempo_medio_servico), \n",
    "        str(num_servidores), \n",
    "        str(tempo_observacao)\n",
    "    ]\n",
    "\n",
    "    resultado = subprocess.run(comando, stdout=subprocess.PIPE, stderr=subprocess.PIPE, text=True)\n",
    "\n",
    "    # Divide a saída em linhas\n",
    "    linhas = resultado.stdout.splitlines()\n",
    "\n",
    "    # Captura a primeira e a segunda linha (se existirem)\n",
    "    primeira_saida = linhas[0] if len(linhas) > 0 else None\n",
    "    segunda_saida = linhas[1] if len(linhas) > 1 else None\n",
    "\n",
    "    return primeira_saida, segunda_saida, resultado.stderr\n"
   ]
  },
  {
   "cell_type": "code",
   "execution_count": null,
   "metadata": {},
   "outputs": [],
   "source": [
    "dados = []\n",
    "colunas = None\n",
    "\n",
    "for cenario in CENARIOS_QUESTAO_2:\n",
    "    saida1, saida2, erro = rodar_simulador(*cenario)\n",
    "\n",
    "    if saida1 and saida2:\n",
    "        if colunas is None:\n",
    "            colunas = saida1.split()\n",
    "\n",
    "        valores = saida2.split()\n",
    "        print(f'Testando cenario: {cenario}')\n",
    "        dados.append(valores)\n",
    "df = pd.DataFrame(dados, columns=colunas)\n",
    "\n",
    "DEFAULT_FILE_NAME = \"saida_simulador.csv\"\n",
    "df.to_csv(f\"{DEFAULT_FILE_NAME}\", index=False, sep=\";\")\n",
    "\n",
    "print(f\"CSV gerado com sucesso: {DEFAULT_FILE_NAME}\")"
   ]
  },
  {
   "cell_type": "code",
   "execution_count": null,
   "metadata": {},
   "outputs": [],
   "source": [
    "questao_2_df = pd.read_csv(DEFAULT_FILE_NAME, sep=\";\", decimal=\",\")\n",
    "questao_2_df = questao_2_df.sort_values(by=\"TaxaDeChegadaMedia\", ascending=True)"
   ]
  },
  {
   "cell_type": "markdown",
   "metadata": {},
   "source": [
    "# Usando o modelo questão 2"
   ]
  },
  {
   "cell_type": "code",
   "execution_count": null,
   "metadata": {},
   "outputs": [],
   "source": [
    "def fatorial(n):\n",
    "    if n == 0 or n == 1:\n",
    "        return 1\n",
    "    resultado = 1\n",
    "    for i in range(2, n + 1):\n",
    "        resultado *= i\n",
    "    return resultado\n",
    "\n",
    "def calculo_modelo(taxaChegada, tempoServico, numServidores):\n",
    "    c = numServidores\n",
    "    taxaServico = 1 / tempoServico\n",
    "    u = taxaServico\n",
    "    p=taxaChegada/ c * u\n",
    "    sum_term = sum((taxaChegada / taxaServico) ** n / fatorial(n) for n in range(numServidores))\n",
    "    P0 = 1 / (sum_term + ((taxaChegada / taxaServico) ** numServidores / (fatorial(numServidores) * (1 - p))))\n",
    "\n",
    "\n",
    "    Pq = (taxaChegada/u) ** c / fatorial(c) * 1 / 1 - p * P0\n",
    "    Lq = Pq * p / 1 - p\n",
    "    W = (Lq / taxaChegada) + (1 / taxaServico)\n",
    "    \n",
    "    return W\n",
    "\n",
    "# Testando para diferentes taxas de chegada usando o modelo\n",
    "taxas_chegada = list(range(1, 15, 1))\n",
    "\n",
    "tempo_servico = 0.88\n",
    "num_servidores = 10\n",
    "\n",
    "resultados_modelo = []\n",
    "for taxa in taxas_chegada:\n",
    "    W = calculo_modelo(taxa, tempo_servico, num_servidores)\n",
    "    resultados_modelo.append({\"Taxa de Chegada\": taxa, \"Tempo Médio de Resposta\": W/1000})\n",
    "    print(f\"Taxa de chegada = {taxa}, Tempo médio de resposta W = {W/100:.2f} seg\")\n",
    "\n",
    "df_resultados = pd.DataFrame(resultados_modelo)\n",
    "\n",
    "plt.figure(figsize=(FIGSIZE))\n",
    "sns.set_theme(style=\"whitegrid\")\n",
    "plt.title('Modelo')\n",
    "sns.lineplot(data=df_resultados, x=\"Taxa de Chegada\", y=\"Tempo Médio de Resposta\", linewidth=1)\n",
    "plt.xticks(rotation=45)\n",
    "plt.show()\n",
    "\n"
   ]
  },
  {
   "cell_type": "markdown",
   "metadata": {},
   "source": [
    "# Usando a simulação"
   ]
  },
  {
   "cell_type": "code",
   "execution_count": null,
   "metadata": {},
   "outputs": [],
   "source": [
    "questao_2_df = questao_2_df.sort_values(by=\"TempoMedioDeResposta\", ascending=False)\n",
    "\n",
    "plt.figure(figsize=(FIGSIZE))\n",
    "sns.set_theme(style=\"whitegrid\")\n",
    "plt.title('Simulação')\n",
    "sns.lineplot(data=questao_2_df, x=\"TaxaDeChegadaMedia\", y=\"TempoMedioDeResposta\", linewidth=1)\n",
    "plt.xticks(rotation=45)\n",
    "plt.show()\n"
   ]
  },
  {
   "cell_type": "code",
   "execution_count": null,
   "metadata": {},
   "outputs": [],
   "source": [
    "questao_2_df"
   ]
  }
 ],
 "metadata": {
  "kernelspec": {
   "display_name": ".venv",
   "language": "python",
   "name": "python3"
  },
  "language_info": {
   "codemirror_mode": {
    "name": "ipython",
    "version": 3
   },
   "file_extension": ".py",
   "mimetype": "text/x-python",
   "name": "python",
   "nbconvert_exporter": "python",
   "pygments_lexer": "ipython3",
   "version": "3.10.12"
  }
 },
 "nbformat": 4,
 "nbformat_minor": 2
}
