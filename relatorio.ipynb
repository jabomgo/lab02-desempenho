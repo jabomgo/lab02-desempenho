{
 "cells": [
  {
   "cell_type": "code",
   "execution_count": null,
   "metadata": {},
   "outputs": [],
   "source": [
    "import os\n",
    "import subprocess\n",
    "import pandas as pd\n",
    "import seaborn as sns\n",
    "import matplotlib as plt\n",
    "\n",
    "def rodar_simulador(taxa_chegada = 40, tempo_medio_servico = 0.1, num_servidores = 1, tempo_observacao = 1):\n",
    "    comando = [\n",
    "        \"java\", \"-cp\", \"bin:lib/*\", \"ServidorWeb\",\n",
    "        str(taxa_chegada), str(tempo_medio_servico),\n",
    "        str(num_servidores), str(tempo_medio_servico),\n",
    "        str(tempo_observacao)]\n",
    "    resultado = subprocess.run(comando)\n",
    "    return resultado.stdout\n"
   ]
  },
  {
   "cell_type": "code",
   "execution_count": 12,
   "metadata": {},
   "outputs": [
    {
     "name": "stdout",
     "output_type": "stream",
     "text": [
      "TaxaDeChegadaMedia TempoDeServicoMedio NumServidores RequisicoesSubmetidas RequisicoesConcluidas TempoMedioDeResposta TamanhoMedioDaFila\n",
      "40,000000 0,100000 1 0 0 NaN 0,000000\n",
      "None\n"
     ]
    }
   ],
   "source": [
    "saida = rodar_simulador()\n",
    "print(saida)"
   ]
  }
 ],
 "metadata": {
  "kernelspec": {
   "display_name": ".venv",
   "language": "python",
   "name": "python3"
  },
  "language_info": {
   "codemirror_mode": {
    "name": "ipython",
    "version": 3
   },
   "file_extension": ".py",
   "mimetype": "text/x-python",
   "name": "python",
   "nbconvert_exporter": "python",
   "pygments_lexer": "ipython3",
   "version": "3.10.12"
  }
 },
 "nbformat": 4,
 "nbformat_minor": 2
}
