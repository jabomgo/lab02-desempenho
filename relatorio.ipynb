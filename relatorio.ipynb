{
 "cells": [
  {
   "cell_type": "code",
   "execution_count": null,
   "metadata": {},
   "outputs": [],
   "source": [
    "import os\n",
    "import subprocess\n",
    "import pandas as pd\n",
    "import seaborn as sns\n",
    "import matplotlib as plt\n",
    "\n",
    "def rodar_simulador(taxa_chegada, tempo_medio_servico, num_servidores, tempo_observacao):\n",
    "    comando = [\n",
    "        \"java\", \"-cp\", \"bin:lib/*\", \"ServidorWeb\",\n",
    "        str(taxa_chegada), \n",
    "        str(tempo_medio_servico), \n",
    "        str(num_servidores), \n",
    "        str(tempo_observacao)\n",
    "    ]\n",
    "\n",
    "    resultado = subprocess.run(comando, stdout=subprocess.PIPE, stderr=subprocess.PIPE, text=True)\n",
    "    saida = resultado.stdout\n",
    "    erro = resultado.stderr\n",
    "\n",
    "    return saida, erro\n"
   ]
  },
  {
   "cell_type": "code",
   "execution_count": 19,
   "metadata": {},
   "outputs": [
    {
     "name": "stdout",
     "output_type": "stream",
     "text": [
      "Saída do simulador:\n",
      "TaxaDeChegadaMedia TempoDeServicoMedio NumServidores RequisicoesSubmetidas RequisicoesConcluidas TempoMedioDeResposta TamanhoMedioDaFila\n",
      "5,000000 10,000000 3 38 7 11,263306 9,285714\n",
      "\n"
     ]
    }
   ],
   "source": [
    "saida, erro = rodar_simulador(5, 10, 3, 10)\n",
    "\n",
    "print(\"Saída do simulador:\")\n",
    "print(saida)\n",
    "\n",
    "if erro:\n",
    "    print(\"Erros:\")\n",
    "    print(erro)"
   ]
  }
 ],
 "metadata": {
  "kernelspec": {
   "display_name": ".venv",
   "language": "python",
   "name": "python3"
  },
  "language_info": {
   "codemirror_mode": {
    "name": "ipython",
    "version": 3
   },
   "file_extension": ".py",
   "mimetype": "text/x-python",
   "name": "python",
   "nbconvert_exporter": "python",
   "pygments_lexer": "ipython3",
   "version": "3.10.12"
  }
 },
 "nbformat": 4,
 "nbformat_minor": 2
}
