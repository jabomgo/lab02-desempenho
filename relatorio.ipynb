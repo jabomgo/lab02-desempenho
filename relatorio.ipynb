{
 "cells": [
  {
   "cell_type": "code",
   "execution_count": 25,
   "metadata": {},
   "outputs": [],
   "source": [
    "import os\n",
    "import subprocess\n",
    "import pandas as pd\n",
    "import seaborn as sns\n",
    "import matplotlib as plt\n",
    "\n",
    "RESULTADOS = []\n",
    "\n",
    "def rodar_simulador(taxa_chegada, tempo_medio_servico, num_servidores, tempo_observacao):\n",
    "    comando = [\n",
    "        \"java\", \"-cp\", \"bin:lib/*\", \"ServidorWeb\",\n",
    "        str(taxa_chegada), \n",
    "        str(tempo_medio_servico), \n",
    "        str(num_servidores), \n",
    "        str(tempo_observacao)\n",
    "    ]\n",
    "\n",
    "    resultado = subprocess.run(comando, stdout=subprocess.PIPE, stderr=subprocess.PIPE, text=True)\n",
    "\n",
    "    # Divide a saída em linhas\n",
    "    linhas = resultado.stdout.splitlines()\n",
    "\n",
    "    # Captura a primeira e a segunda linha (se existirem)\n",
    "    primeira_saida = linhas[0] if len(linhas) > 0 else None\n",
    "    segunda_saida = linhas[1] if len(linhas) > 1 else None\n",
    "\n",
    "    return primeira_saida, segunda_saida, resultado.stderr\n"
   ]
  },
  {
   "cell_type": "code",
   "execution_count": 26,
   "metadata": {},
   "outputs": [
    {
     "name": "stdout",
     "output_type": "stream",
     "text": [
      "Primeira saída do simulador: TaxaDeChegadaMedia TempoDeServicoMedio NumServidores RequisicoesSubmetidas RequisicoesConcluidas TempoMedioDeResposta TamanhoMedioDaFila\n",
      "Segunda saída do simulador: 5,000000 10,000000 3 44 6 12,325015 10,833333\n"
     ]
    }
   ],
   "source": [
    "saida1, saida2, erro = rodar_simulador(5, 10, 3, 10)\n",
    "\n",
    "print(\"Primeira saída do simulador:\", saida1)\n",
    "print(\"Segunda saída do simulador:\", saida2)\n",
    "\n",
    "if erro:\n",
    "    print(\"Erros:\")\n",
    "    print(erro)"
   ]
  }
 ],
 "metadata": {
  "kernelspec": {
   "display_name": ".venv",
   "language": "python",
   "name": "python3"
  },
  "language_info": {
   "codemirror_mode": {
    "name": "ipython",
    "version": 3
   },
   "file_extension": ".py",
   "mimetype": "text/x-python",
   "name": "python",
   "nbconvert_exporter": "python",
   "pygments_lexer": "ipython3",
   "version": "3.10.12"
  }
 },
 "nbformat": 4,
 "nbformat_minor": 2
}
