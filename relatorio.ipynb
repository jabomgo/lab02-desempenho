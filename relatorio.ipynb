{
 "cells": [
  {
   "cell_type": "code",
   "execution_count": 41,
   "metadata": {},
   "outputs": [],
   "source": [
    "import os\n",
    "import subprocess\n",
    "import pandas as pd\n",
    "import seaborn as sns\n",
    "import matplotlib as plt\n",
    "\n",
    "def rodar_simulador(taxa_chegada, tempo_medio_servico, num_servidores, tempo_observacao):\n",
    "    comando = [\n",
    "        \"java\", \"-cp\", \"bin:lib/*\", \"ServidorWeb\",\n",
    "        str(taxa_chegada), \n",
    "        str(tempo_medio_servico), \n",
    "        str(num_servidores), \n",
    "        str(tempo_observacao)\n",
    "    ]\n",
    "\n",
    "    resultado = subprocess.run(comando, stdout=subprocess.PIPE, stderr=subprocess.PIPE, text=True)\n",
    "\n",
    "    # Divide a saída em linhas\n",
    "    linhas = resultado.stdout.splitlines()\n",
    "\n",
    "    # Captura a primeira e a segunda linha (se existirem)\n",
    "    primeira_saida = linhas[0] if len(linhas) > 0 else None\n",
    "    segunda_saida = linhas[1] if len(linhas) > 1 else None\n",
    "\n",
    "    return primeira_saida, segunda_saida, resultado.stderr\n"
   ]
  },
  {
   "cell_type": "code",
   "execution_count": 42,
   "metadata": {},
   "outputs": [
    {
     "name": "stdout",
     "output_type": "stream",
     "text": [
      "CSV gerado com sucesso: saida_simulador.csv\n"
     ]
    }
   ],
   "source": [
    "\n",
    "# Lista de configurações para testar\n",
    "CENARIOS_QUESTAO_2 = [\n",
    "    [10, 0.88, 10, 10],\n",
    "]\n",
    "\n",
    "dados = []  # Lista para armazenar os resultados\n",
    "colunas = None  # Armazenará os nomes das colunas\n",
    "\n",
    "for cenario in CENARIOS_QUESTAO_2:\n",
    "    saida1, saida2, erro = rodar_simulador(*cenario)\n",
    "\n",
    "    if saida1 and saida2:\n",
    "        if colunas is None:\n",
    "            colunas = saida1.split()  # Define as colunas apenas na primeira iteração\n",
    "\n",
    "        valores = saida2.split()  # Converte a saída em valores\n",
    "        dados.append(valores)  # Adiciona os valores à lista de dados\n",
    "\n",
    "# Criando o DataFrame\n",
    "df = pd.DataFrame(dados, columns=colunas)\n",
    "\n",
    "DEFAULT_FILE_NAME = \"saida_simulador.csv\"\n",
    "# Salvando em CSV\n",
    "df.to_csv(f\"{DEFAULT_FILE_NAME}\", index=False, sep=\";\")  # Usa \";\" como separador\n",
    "\n",
    "print(\"CSV gerado com sucesso: saida_simulador.csv\")"
   ]
  },
  {
   "cell_type": "code",
   "execution_count": 43,
   "metadata": {},
   "outputs": [
    {
     "data": {
      "text/html": [
       "<div>\n",
       "<style scoped>\n",
       "    .dataframe tbody tr th:only-of-type {\n",
       "        vertical-align: middle;\n",
       "    }\n",
       "\n",
       "    .dataframe tbody tr th {\n",
       "        vertical-align: top;\n",
       "    }\n",
       "\n",
       "    .dataframe thead th {\n",
       "        text-align: right;\n",
       "    }\n",
       "</style>\n",
       "<table border=\"1\" class=\"dataframe\">\n",
       "  <thead>\n",
       "    <tr style=\"text-align: right;\">\n",
       "      <th></th>\n",
       "      <th>TaxaDeChegadaMedia</th>\n",
       "      <th>TempoDeServicoMedio</th>\n",
       "      <th>NumServidores</th>\n",
       "      <th>RequisicoesSubmetidas</th>\n",
       "      <th>RequisicoesConcluidas</th>\n",
       "      <th>TempoMedioDeResposta</th>\n",
       "      <th>TamanhoMedioDaFila</th>\n",
       "    </tr>\n",
       "  </thead>\n",
       "  <tbody>\n",
       "    <tr>\n",
       "      <th>0</th>\n",
       "      <td>10,000000</td>\n",
       "      <td>0,880000</td>\n",
       "      <td>10</td>\n",
       "      <td>83</td>\n",
       "      <td>79</td>\n",
       "      <td>0,843885</td>\n",
       "      <td>0,050633</td>\n",
       "    </tr>\n",
       "  </tbody>\n",
       "</table>\n",
       "</div>"
      ],
      "text/plain": [
       "  TaxaDeChegadaMedia TempoDeServicoMedio  NumServidores  \\\n",
       "0          10,000000            0,880000             10   \n",
       "\n",
       "   RequisicoesSubmetidas  RequisicoesConcluidas TempoMedioDeResposta  \\\n",
       "0                     83                     79             0,843885   \n",
       "\n",
       "  TamanhoMedioDaFila  \n",
       "0           0,050633  "
      ]
     },
     "execution_count": 43,
     "metadata": {},
     "output_type": "execute_result"
    }
   ],
   "source": [
    "questao_1_df = pd.read_csv(DEFAULT_FILE_NAME, sep=\";\")\n",
    "questao_1_df"
   ]
  }
 ],
 "metadata": {
  "kernelspec": {
   "display_name": ".venv",
   "language": "python",
   "name": "python3"
  },
  "language_info": {
   "codemirror_mode": {
    "name": "ipython",
    "version": 3
   },
   "file_extension": ".py",
   "mimetype": "text/x-python",
   "name": "python",
   "nbconvert_exporter": "python",
   "pygments_lexer": "ipython3",
   "version": "3.10.12"
  }
 },
 "nbformat": 4,
 "nbformat_minor": 2
}
